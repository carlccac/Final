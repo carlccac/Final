{
 "cells": [
  {
   "cell_type": "markdown",
   "metadata": {},
   "source": [
    "# Analysis:\n",
    "\n",
    "Several data frames will be derived from the Propublica data set that was updated to include the winners from Wikipedia. The data frame 'num_cans' will group the Propublica data frame by state giving the number of total candidates per state. Two other data frames will be derived, 'wins' and 'lost'. They will be combined with 'num_cans' to give the number of winning and losing candidates with PAC donations greater than 45% of their total donations as well as the percentage of total candidates who had PAC donation percentages greater than 45%, i. e., the percent that had greater than 45%. \n",
    "\n",
    "The following creates the data frames 'num_cans', 'wins' and 'lost' from the Propublica data set. "
   ]
  },
  {
   "cell_type": "code",
   "execution_count": 179,
   "metadata": {},
   "outputs": [],
   "source": [
    "import pandas as pd\n",
    "pd.set_option('display.max_rows', None); pd.set_option('display.width', 1000)\n",
    "pp = pd.read_csv('/.../propub_winners_csv_edit.csv') # Propulica edited CSV file"
   ]
  },
  {
   "cell_type": "code",
   "execution_count": 180,
   "metadata": {},
   "outputs": [],
   "source": [
    "p2 = pp.copy(deep=True)\n",
    "p2 = p2[(p2['total'] > 0) & ((p2['party'] == 'REP') | (p2['party'] == 'DEM'))]\n",
    "p2['%_pac'] = round(100*(p2.pac / p2.total), 2)\n",
    "p2['%>45'] = p2['%_pac'] > 45\n",
    "\n",
    "num_cans = p2.copy(deep=True).groupby(['st'], as_index = False).agg({'name': 'count'})\n",
    "num_cans.rename(columns = {'name':'#cans'}, inplace = True)\n",
    "\n",
    "p4 =p2.copy(deep=True) #number of winners\n",
    "wins = p4[(p4['%>45']) & (p4['win'] == 1)].groupby(['st'], as_index = False).agg({'name': 'count'})\n",
    "\n",
    "p5 =p2.copy(deep=True) #number of losers\n",
    "lost = p5[(p5['%>45']) & (p5['win'] == 0)].groupby(['st'], as_index = False).agg({'name': 'count'})"
   ]
  },
  {
   "cell_type": "markdown",
   "metadata": {},
   "source": [
    "Remove all candidates who are not either Republicans or Democrats. Remove all candidates with no donations.\n",
    "\n",
    "Calculate the amount of PAC donations as a percentage of the total donations.\n",
    "\n",
    "Determine if the percentage of PAC donations is greater than 45%.\n",
    "\n",
    "Create new data frame, 'num_cans', grouping by state, counting names to determine how many candidates ran in each state. \n",
    "\n",
    "Create new data frame, 'wins', that determines how many winning candidates per state had donations greater than 45% of total donations.\n",
    "\n",
    "Create new data frame, 'lost', that determines how many losing candidates per state had donations greater than 45% of total donations.\n",
    "\n",
    "Continuing below, 'wins' and 'lost' will be used to create new columns in 'num_cans.' "
   ]
  },
  {
   "cell_type": "code",
   "execution_count": 181,
   "metadata": {},
   "outputs": [],
   "source": [
    "num_cans['>45% wins'] = num_cans.apply(lambda i: wins[wins['st'] == i.st].name.values[0] \n",
    "                                       if not (wins[wins['st'] == i.st]).empty else 0, axis= 1)\n",
    "\n",
    "num_cans['>45% lost'] = num_cans.apply(lambda i: lost[lost['st'] == i.st].name.values[0] \n",
    "                                       if not (lost[lost['st'] == i.st]).empty else 0, axis= 1)\n",
    "\n",
    "num_cans['>45% as % of total'] = round((100*(num_cans['>45% wins'] + num_cans['>45% lost'])/num_cans['#cans']), 2)\n",
    "\n",
    "num_cans = num_cans.sort_values((['>45% wins']), ascending=False)"
   ]
  },
  {
   "cell_type": "markdown",
   "metadata": {},
   "source": [
    "As both 'wins' and 'lost' grouped the modified Propublica data set by state and aggregated by counting either the wins or the losses; searching into them by state will return either the number of wins or losses by candidates with PAC donations greater than 45%. If a state had no candidates with high PAC percentages, a zero was entered. "
   ]
  },
  {
   "cell_type": "code",
   "execution_count": 182,
   "metadata": {},
   "outputs": [
    {
     "name": "stdout",
     "output_type": "stream",
     "text": [
      "    st  #cans  >45% wins  >45% lost  >45% as % of total\n",
      "4   CA    212         24          5               13.68\n",
      "42  TX    226         18          7               11.06\n",
      "34  OH     48         11          3               29.17\n",
      "8   FL    152         11          2                8.55\n",
      "37  PA     53         10          0               18.87\n",
      "13  IL     66          9          2               16.67\n",
      "33  NY    131          8          3                8.40\n",
      "9   GA     86          7          1                9.30\n",
      "26  NC     79          6          1                8.86\n",
      "30  NJ     57          6          0               10.53\n",
      "14  IN     45          6          1               15.56\n",
      "23  MO     25          5          1               24.00\n",
      "16  KY     17          5          0               29.41\n",
      "46  WA     41          5          1               14.63\n",
      "21  MI     61          5          2               11.48\n",
      "5   CO     20          4          1               25.00\n",
      "1   AL     27          4          1               18.52\n",
      "2   AR      8          4          0               50.00\n",
      "18  MA     38          4          0               10.53\n",
      "39  SC     22          3          0               13.64\n",
      "24  MS     11          3          0               27.27\n",
      "35  OK     21          3          0               14.29\n",
      "19  MD     46          3          1                8.70\n",
      "36  OR     32          3          1               12.50\n",
      "44  VA     48          3          1                8.33\n",
      "6   CT     16          3          0               18.75\n",
      "41  TN     34          2          0                5.88\n",
      "43  UT     29          2          0                6.90\n",
      "12  ID      5          2          0               40.00\n",
      "28  NE     11          2          0               18.18\n",
      "47  WI     29          2          2               13.79\n",
      "32  NV     25          2          0                8.00\n",
      "48  WV      9          2          0               22.22\n",
      "38  RI      4          1          0               25.00\n",
      "45  VT      3          1          0               33.33\n",
      "0   AK      1          1          0              100.00\n",
      "49  WY      4          1          0               25.00\n",
      "27  ND      2          1          0               50.00\n",
      "22  MN     24          1          1                8.33\n",
      "20  ME      6          1          0               16.67\n",
      "17  LA     19          1          2               15.79\n",
      "15  KS     17          1          0                5.88\n",
      "10  HI      8          1          0               12.50\n",
      "7   DE      3          1          0               33.33\n",
      "31  NM     21          0          0                0.00\n",
      "29  NH      7          0          0                0.00\n",
      "40  SD      3          0          0                0.00\n",
      "11  IA     19          0          0                0.00\n",
      "3   AZ     40          0          0                0.00\n",
      "25  MT      9          0          1               11.11\n"
     ]
    }
   ],
   "source": [
    "print(num_cans) # final data set\n"
   ]
  },
  {
   "cell_type": "code",
   "execution_count": 189,
   "metadata": {},
   "outputs": [
    {
     "name": "stdout",
     "output_type": "stream",
     "text": [
      "count     50.000000\n",
      "mean      17.792200\n",
      "std       16.551416\n",
      "min        0.000000\n",
      "25%        8.587500\n",
      "50%       13.735000\n",
      "75%       23.555000\n",
      "max      100.000000\n",
      "Name: >45% as % of total, dtype: float64\n"
     ]
    }
   ],
   "source": [
    "print(num_cans['>45% as % of total'].describe()) #summary statistics\n"
   ]
  },
  {
   "cell_type": "markdown",
   "metadata": {},
   "source": [
    "Create stacked bar chart of candidates with PAC donations greater than 45% who both won and lost. This will allow us to see how effective large PAC donations were."
   ]
  },
  {
   "cell_type": "code",
   "execution_count": 183,
   "metadata": {},
   "outputs": [
    {
     "data": {
      "text/plain": [
       "<function matplotlib.pyplot.show(*args, **kw)>"
      ]
     },
     "execution_count": 183,
     "metadata": {},
     "output_type": "execute_result"
    },
    {
     "data": {
      "image/png": "[encoded data removed]",
      "text/plain": [
       "<Figure size 1584x720 with 1 Axes>"
      ]
     },
     "metadata": {
      "needs_background": "light"
     },
     "output_type": "display_data"
    }
   ],
   "source": [
    "import numpy as np\n",
    "import matplotlib.pyplot as plt\n",
    "\n",
    "plt.figure(figsize = (22,10))\n",
    "\n",
    "plt.bar(num_cans.st, num_cans['>45% wins'], 0.7, label = '>45% wins')\n",
    "plt.bar(num_cans.st, num_cans['>45% lost'], 0.7, bottom = num_cans['>45% wins'], label = '>45% lost')\n",
    "plt.legend()\n",
    "plt.title('Number of Candidates Per State with PAC Donations Greater Than 45% of Total Donations')\n",
    "plt.savefig('final_stack_bar.svg')\n",
    "\n",
    "plt.show"
   ]
  },
  {
   "cell_type": "markdown",
   "metadata": {},
   "source": [
    "Create scatter plot of total number of candidates versus those with high PAC percentages as a percentage of the total number of candidates. Smaller states seem to have a higher number of candidates with high PAC percentages. "
   ]
  },
  {
   "cell_type": "code",
   "execution_count": 184,
   "metadata": {},
   "outputs": [
    {
     "data": {
      "image/png": "[encoded data removed]",
      "text/plain": [
       "<Figure size 1440x720 with 1 Axes>"
      ]
     },
     "metadata": {
      "needs_background": "light"
     },
     "output_type": "display_data"
    }
   ],
   "source": [
    "plt.figure(figsize = (20,10))\n",
    "\n",
    "plt.scatter(x = num_cans['#cans'], y = num_cans['>45% as % of total'])\n",
    "plt.title('Number of Candidates Vs. >45% As Percentage Of Total')\n",
    "\n",
    "plt.xlabel('Number Of Candidates')\n",
    "plt.ylabel('>45% As Percentage Of Total')\n",
    "plt.savefig('final_scatter.svg')\n",
    "plt.show()\n",
    "\n"
   ]
  },
  {
   "cell_type": "markdown",
   "metadata": {},
   "source": [
    "Function to analyze data by state. Returns list of data frames. Uses Propublica data set, similar to the above.\n",
    "\n",
    "DF1: Remove candidates who are not Republican or Democrat or who had $0 donations, calculate PAC donations as percentage of total, determine if candidate's donations greater than 45 percent? \n",
    "\n",
    "Df2: DF1 grouped by party. Sum of total donations and PAC donations by party. \n",
    "\n",
    "DF3: Filter DF2 to show candidates with PAC contributions greater than 45 percent. \n",
    "\n",
    "DF4: Number of winners with PAC donations greater than 45 percent by party. "
   ]
  },
  {
   "cell_type": "code",
   "execution_count": 170,
   "metadata": {},
   "outputs": [],
   "source": [
    "def analyze(df, state): #analysis of individual states\n",
    "    df1 = df[df['st'] == state]\n",
    "    df1 = df1[(df1['total'] > 0) & ((df1['party'] == 'REP') | (df1['party'] == 'DEM'))]\n",
    "    df1['%_pac'] = round(100*(df1.pac / df1.total), 2)\n",
    "    df1['%>45'] = df1['%_pac'] > 45\n",
    "    \n",
    "    #sum total & pac contribs. by party\n",
    "    df2 = df1.groupby(['party'], as_index = False).agg({'total':'sum','pac':'sum'}) \n",
    "    df2['%_pac'] = round(100*(df2.pac / df2.total), 2)\n",
    "    \n",
    "    #candidates with contributions greater than 45%\n",
    "    df3 = df1[df1['%>45']]\n",
    "    \n",
    "    #count of candidates with contributions greater than 45% by party\n",
    "    df4 = df3.groupby(['party']).agg({'win':'count'})\n",
    "    \n",
    "    return df1, df2, df3, df4"
   ]
  },
  {
   "cell_type": "markdown",
   "metadata": {},
   "source": [
    "Example:"
   ]
  },
  {
   "cell_type": "code",
   "execution_count": 191,
   "metadata": {},
   "outputs": [
    {
     "name": "stdout",
     "output_type": "stream",
     "text": [
      "     st  dist                         name         id party    total      pac  win  %_pac  %>45\n",
      "869  GA     1           carter, earl leroy  H4GA01039   REP  2341693  1205934    1  51.50  True\n",
      "879  GA     2              bishop, sanford  H2GA02031   DEM  1486115  1105144    1  74.36  True\n",
      "880  GA     3   ferguson, anderson drew iv  H6GA03113   REP  2240752  1452321    1  64.81  True\n",
      "884  GA     4      johnson, henry c. 'hank  H6GA04129   DEM   634286   509375    1  80.31  True\n",
      "933  GA     8          scott, james austin  H0GA08099   REP   828258   542300    1  65.47  True\n",
      "961  GA    11            loudermilk, barry  H4GA11061   REP   875086   638050    1  72.91  True\n",
      "972  GA    13          scott, david albert  H2GA13012   DEM  1210110  1025900    1  84.78  True\n",
      "990  GA    14  graves, john thomas mr. jr.  H0GA09030   REP   689049   548250    0  79.57  True\n"
     ]
    }
   ],
   "source": [
    "print(analyze(pp, 'GA')[2]) # candidates with contributions greater than 45% in Georgia"
   ]
  },
  {
   "cell_type": "code",
   "execution_count": null,
   "metadata": {},
   "outputs": [],
   "source": []
  }
 ],
 "metadata": {
  "kernelspec": {
   "display_name": "Python 3",
   "language": "python",
   "name": "python3"
  },
  "language_info": {
   "codemirror_mode": {
    "name": "ipython",
    "version": 3
   },
   "file_extension": ".py",
   "mimetype": "text/x-python",
   "name": "python",
   "nbconvert_exporter": "python",
   "pygments_lexer": "ipython3",
   "version": "3.8.3"
  }
 },
 "nbformat": 4,
 "nbformat_minor": 4
}
